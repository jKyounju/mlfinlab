{
 "cells": [
  {
   "cell_type": "code",
   "execution_count": 1,
   "metadata": {},
   "outputs": [],
   "source": [
    "import pandas as pd"
   ]
  },
  {
   "cell_type": "code",
   "execution_count": 2,
   "metadata": {},
   "outputs": [],
   "source": [
    "data_path = r'./data_samples/'\n",
    "data = 'sp500_tick_compact.csv'"
   ]
  },
  {
   "cell_type": "code",
   "execution_count": 35,
   "metadata": {},
   "outputs": [
    {
     "data": {
      "text/plain": [
       "2009-09-28 09:30:00    50.79\n",
       "2009-09-28 09:30:00    50.71\n",
       "2009-09-28 09:31:32    50.75\n",
       "2009-09-28 09:31:33    50.75\n",
       "2009-09-28 09:31:50    50.75\n",
       "dtype: float64"
      ]
     },
     "execution_count": 35,
     "metadata": {},
     "output_type": "execute_result"
    }
   ],
   "source": [
    "# 틱바\n",
    "prices = pd.read_csv(data_path+data)\n",
    "tick_bars = pd.Series(data = prices['price'].values, index = prices['date_time'].values)\n",
    "tick_bars.head()"
   ]
  },
  {
   "cell_type": "code",
   "execution_count": 43,
   "metadata": {},
   "outputs": [
    {
     "data": {
      "text/plain": [
       "2009-09-28 09:30:00    50.71\n",
       "2009-09-28 09:31:50    50.75\n",
       "2009-09-28 09:31:51    50.75\n",
       "2009-09-28 09:32:06    50.78\n",
       "2009-09-28 09:32:06    50.78\n",
       "dtype: float64"
      ]
     },
     "execution_count": 43,
     "metadata": {},
     "output_type": "execute_result"
    }
   ],
   "source": [
    "# 거래량바\n",
    "volume_bars = prices[prices.volume > 100]\n",
    "volume_bars = pd.Series(data = volume_bars['price'].values, index = volume_bars['date_time'].values)\n",
    "volume_bars.head()"
   ]
  },
  {
   "cell_type": "code",
   "execution_count": 55,
   "metadata": {},
   "outputs": [
    {
     "data": {
      "text/plain": [
       "2009-09-28 09:30:00     5079.00\n",
       "2009-09-28 09:30:00    32352.98\n",
       "2009-09-28 09:31:32     5075.00\n",
       "2009-09-28 09:31:33     5075.00\n",
       "2009-09-28 09:31:50    15225.00\n",
       "dtype: float64"
      ]
     },
     "execution_count": 55,
     "metadata": {},
     "output_type": "execute_result"
    }
   ],
   "source": [
    "# 달러바\n",
    "dollar_bars = pd.DataFrame(columns =['date_time', 'price'])\n",
    "dollar_bars['date_time'] = prices['date_time'].values\n",
    "dollar_bars['price']     = prices['price'].values * prices['volume'].values\n",
    "dollar_bars = pd.Series(data = dollar_bars['price'].values, index = dollar_bars['date_time'].values).\n",
    "dollar_bars.head()"
   ]
  },
  {
   "cell_type": "code",
   "execution_count": 121,
   "metadata": {},
   "outputs": [
    {
     "name": "stdout",
     "output_type": "stream",
     "text": [
      "(1914882,)\n",
      "(1914881,) (1914881,)\n"
     ]
    }
   ],
   "source": [
    "# 불균형바\n",
    "t = tick_bars.index[1:]\n",
    "t_1 = tick_bars.index[:-1]\n",
    "print(tick_bars.shape)\n",
    "\n",
    "temp = tick_bars.index.searchsorted(tick_bars.index[1:])\n",
    "temp_1 = tick_bars.index.searchsorted(tick_bars.index[:-1])\n",
    "\n",
    "print(t.shape, t_1.shape)"
   ]
  },
  {
   "cell_type": "code",
   "execution_count": 138,
   "metadata": {},
   "outputs": [
    {
     "ename": "AttributeError",
     "evalue": "'Series' object has no attribute 'insert'",
     "output_type": "error",
     "traceback": [
      "\u001b[1;31m---------------------------------------------------------------------------\u001b[0m",
      "\u001b[1;31mAttributeError\u001b[0m                            Traceback (most recent call last)",
      "\u001b[1;32m<ipython-input-138-d265c0ecb5ff>\u001b[0m in \u001b[0;36m<module>\u001b[1;34m\u001b[0m\n\u001b[0;32m      1\u001b[0m \u001b[1;31m#tick_bars[t]['vol'] = tick_bars.loc[t].values - tick_bars.loc[t_1].values\u001b[0m\u001b[1;33m\u001b[0m\u001b[1;33m\u001b[0m\u001b[1;33m\u001b[0m\u001b[0m\n\u001b[1;32m----> 2\u001b[1;33m \u001b[0mtick_bars\u001b[0m\u001b[1;33m.\u001b[0m\u001b[0minsert\u001b[0m\u001b[1;33m(\u001b[0m\u001b[1;36m3\u001b[0m\u001b[1;33m,\u001b[0m \u001b[1;34m'vol'\u001b[0m\u001b[1;33m,\u001b[0m\u001b[0mtick_bars\u001b[0m\u001b[1;33m[\u001b[0m\u001b[0mtemp\u001b[0m\u001b[1;33m]\u001b[0m\u001b[1;33m.\u001b[0m\u001b[0mvalues\u001b[0m \u001b[1;33m-\u001b[0m \u001b[0mtick_bars\u001b[0m\u001b[1;33m[\u001b[0m\u001b[0mtemp_1\u001b[0m\u001b[1;33m]\u001b[0m\u001b[1;33m.\u001b[0m\u001b[0mvalues\u001b[0m\u001b[1;33m)\u001b[0m\u001b[1;33m\u001b[0m\u001b[1;33m\u001b[0m\u001b[0m\n\u001b[0m\u001b[0;32m      3\u001b[0m \u001b[1;31m#print(tick_bars[temp].values)\u001b[0m\u001b[1;33m\u001b[0m\u001b[1;33m\u001b[0m\u001b[1;33m\u001b[0m\u001b[0m\n",
      "\u001b[1;32mc:\\python37\\lib\\site-packages\\pandas\\core\\generic.py\u001b[0m in \u001b[0;36m__getattr__\u001b[1;34m(self, name)\u001b[0m\n\u001b[0;32m   5055\u001b[0m             \u001b[1;32mif\u001b[0m \u001b[0mself\u001b[0m\u001b[1;33m.\u001b[0m\u001b[0m_info_axis\u001b[0m\u001b[1;33m.\u001b[0m\u001b[0m_can_hold_identifiers_and_holds_name\u001b[0m\u001b[1;33m(\u001b[0m\u001b[0mname\u001b[0m\u001b[1;33m)\u001b[0m\u001b[1;33m:\u001b[0m\u001b[1;33m\u001b[0m\u001b[1;33m\u001b[0m\u001b[0m\n\u001b[0;32m   5056\u001b[0m                 \u001b[1;32mreturn\u001b[0m \u001b[0mself\u001b[0m\u001b[1;33m[\u001b[0m\u001b[0mname\u001b[0m\u001b[1;33m]\u001b[0m\u001b[1;33m\u001b[0m\u001b[1;33m\u001b[0m\u001b[0m\n\u001b[1;32m-> 5057\u001b[1;33m             \u001b[1;32mreturn\u001b[0m \u001b[0mobject\u001b[0m\u001b[1;33m.\u001b[0m\u001b[0m__getattribute__\u001b[0m\u001b[1;33m(\u001b[0m\u001b[0mself\u001b[0m\u001b[1;33m,\u001b[0m \u001b[0mname\u001b[0m\u001b[1;33m)\u001b[0m\u001b[1;33m\u001b[0m\u001b[1;33m\u001b[0m\u001b[0m\n\u001b[0m\u001b[0;32m   5058\u001b[0m \u001b[1;33m\u001b[0m\u001b[0m\n\u001b[0;32m   5059\u001b[0m     \u001b[1;32mdef\u001b[0m \u001b[0m__setattr__\u001b[0m\u001b[1;33m(\u001b[0m\u001b[0mself\u001b[0m\u001b[1;33m,\u001b[0m \u001b[0mname\u001b[0m\u001b[1;33m,\u001b[0m \u001b[0mvalue\u001b[0m\u001b[1;33m)\u001b[0m\u001b[1;33m:\u001b[0m\u001b[1;33m\u001b[0m\u001b[1;33m\u001b[0m\u001b[0m\n",
      "\u001b[1;31mAttributeError\u001b[0m: 'Series' object has no attribute 'insert'"
     ]
    }
   ],
   "source": [
    "#tick_bars[t]['vol'] = tick_bars.loc[t].values - tick_bars.loc[t_1].values\n",
    "tick_bars.insert(3, 'vol',tick_bars[temp].values - tick_bars[temp_1].values)\n",
    "#print(tick_bars[temp].values)"
   ]
  },
  {
   "cell_type": "code",
   "execution_count": 137,
   "metadata": {},
   "outputs": [
    {
     "data": {
      "text/plain": [
       "array([ 50.79  ,  50.75  ,  50.75  , ..., 110.159 , 110.1333, 110.15  ])"
      ]
     },
     "execution_count": 137,
     "metadata": {},
     "output_type": "execute_result"
    }
   ],
   "source": []
  },
  {
   "cell_type": "code",
   "execution_count": 132,
   "metadata": {},
   "outputs": [
    {
     "data": {
      "text/plain": [
       "2009-09-28 09:30:00    50.79\n",
       "2009-09-28 09:30:00    50.71\n",
       "2009-09-28 09:31:32    50.75\n",
       "2009-09-28 09:31:33    50.75\n",
       "2009-09-28 09:31:50    50.75\n",
       "dtype: float64"
      ]
     },
     "execution_count": 132,
     "metadata": {},
     "output_type": "execute_result"
    }
   ],
   "source": [
    "tick_bars.head()"
   ]
  },
  {
   "cell_type": "code",
   "execution_count": null,
   "metadata": {},
   "outputs": [],
   "source": []
  }
 ],
 "metadata": {
  "kernelspec": {
   "display_name": "Python 3",
   "language": "python",
   "name": "python3"
  },
  "language_info": {
   "codemirror_mode": {
    "name": "ipython",
    "version": 3
   },
   "file_extension": ".py",
   "mimetype": "text/x-python",
   "name": "python",
   "nbconvert_exporter": "python",
   "pygments_lexer": "ipython3",
   "version": "3.7.8"
  }
 },
 "nbformat": 4,
 "nbformat_minor": 4
}
