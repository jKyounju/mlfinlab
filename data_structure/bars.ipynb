{
 "cells": [
  {
   "cell_type": "code",
   "execution_count": 1,
   "metadata": {},
   "outputs": [],
   "source": [
    "import pandas as pd\n",
    "import numpy as np"
   ]
  },
  {
   "cell_type": "code",
   "execution_count": 2,
   "metadata": {},
   "outputs": [],
   "source": [
    "data_path = r'./data_samples/'\n",
    "data = 'sp500_tick_compact.csv'"
   ]
  },
  {
   "cell_type": "code",
   "execution_count": 3,
   "metadata": {},
   "outputs": [
    {
     "data": {
      "text/html": [
       "<div>\n",
       "<style scoped>\n",
       "    .dataframe tbody tr th:only-of-type {\n",
       "        vertical-align: middle;\n",
       "    }\n",
       "\n",
       "    .dataframe tbody tr th {\n",
       "        vertical-align: top;\n",
       "    }\n",
       "\n",
       "    .dataframe thead th {\n",
       "        text-align: right;\n",
       "    }\n",
       "</style>\n",
       "<table border=\"1\" class=\"dataframe\">\n",
       "  <thead>\n",
       "    <tr style=\"text-align: right;\">\n",
       "      <th></th>\n",
       "      <th>date_time</th>\n",
       "      <th>price</th>\n",
       "      <th>volume</th>\n",
       "    </tr>\n",
       "  </thead>\n",
       "  <tbody>\n",
       "    <tr>\n",
       "      <th>0</th>\n",
       "      <td>2009-09-28 09:30:00</td>\n",
       "      <td>50.79</td>\n",
       "      <td>100.0</td>\n",
       "    </tr>\n",
       "    <tr>\n",
       "      <th>1</th>\n",
       "      <td>2009-09-28 09:30:00</td>\n",
       "      <td>50.71</td>\n",
       "      <td>638.0</td>\n",
       "    </tr>\n",
       "    <tr>\n",
       "      <th>2</th>\n",
       "      <td>2009-09-28 09:31:32</td>\n",
       "      <td>50.75</td>\n",
       "      <td>100.0</td>\n",
       "    </tr>\n",
       "    <tr>\n",
       "      <th>3</th>\n",
       "      <td>2009-09-28 09:31:33</td>\n",
       "      <td>50.75</td>\n",
       "      <td>100.0</td>\n",
       "    </tr>\n",
       "    <tr>\n",
       "      <th>4</th>\n",
       "      <td>2009-09-28 09:31:50</td>\n",
       "      <td>50.75</td>\n",
       "      <td>300.0</td>\n",
       "    </tr>\n",
       "  </tbody>\n",
       "</table>\n",
       "</div>"
      ],
      "text/plain": [
       "             date_time  price  volume\n",
       "0  2009-09-28 09:30:00  50.79   100.0\n",
       "1  2009-09-28 09:30:00  50.71   638.0\n",
       "2  2009-09-28 09:31:32  50.75   100.0\n",
       "3  2009-09-28 09:31:33  50.75   100.0\n",
       "4  2009-09-28 09:31:50  50.75   300.0"
      ]
     },
     "execution_count": 3,
     "metadata": {},
     "output_type": "execute_result"
    }
   ],
   "source": [
    "# 틱바\n",
    "prices = pd.read_csv(data_path+data)\n",
    "tick_bars = pd.Series(data = prices['price'].values, index = prices['date_time'].values)\n",
    "prices.head()"
   ]
  },
  {
   "cell_type": "code",
   "execution_count": 4,
   "metadata": {},
   "outputs": [
    {
     "data": {
      "text/plain": [
       "2009-09-28 09:30:00    50.71\n",
       "2009-09-28 09:31:50    50.75\n",
       "2009-09-28 09:31:51    50.75\n",
       "2009-09-28 09:32:06    50.78\n",
       "2009-09-28 09:32:06    50.78\n",
       "dtype: float64"
      ]
     },
     "execution_count": 4,
     "metadata": {},
     "output_type": "execute_result"
    }
   ],
   "source": [
    "# 거래량바\n",
    "volume_bars = prices[prices.volume > 100]\n",
    "volume_bars = pd.Series(data = volume_bars['price'].values, index = volume_bars['date_time'].values)\n",
    "volume_bars.head()"
   ]
  },
  {
   "cell_type": "code",
   "execution_count": 5,
   "metadata": {
    "scrolled": true
   },
   "outputs": [
    {
     "data": {
      "text/plain": [
       "2009-09-28 09:30:00     5079.00\n",
       "2009-09-28 09:30:00    32352.98\n",
       "2009-09-28 09:31:32     5075.00\n",
       "2009-09-28 09:31:33     5075.00\n",
       "2009-09-28 09:31:50    15225.00\n",
       "dtype: float64"
      ]
     },
     "execution_count": 5,
     "metadata": {},
     "output_type": "execute_result"
    }
   ],
   "source": [
    "# 달러바\n",
    "dollar_bars = pd.DataFrame(columns =['date_time', 'price'])\n",
    "dollar_bars['date_time'] = prices['date_time'].values\n",
    "dollar_bars['price']     = prices['price'].values * prices['volume'].values\n",
    "dollar_bars = pd.Series(data = dollar_bars['price'].values, index = dollar_bars['date_time'].values)\n",
    "dollar_bars.head()"
   ]
  },
  {
   "cell_type": "code",
   "execution_count": 11,
   "metadata": {},
   "outputs": [
    {
     "name": "stdout",
     "output_type": "stream",
     "text": [
      "1914881\n"
     ]
    },
    {
     "name": "stderr",
     "output_type": "stream",
     "text": [
      "c:\\python37\\lib\\site-packages\\ipykernel_launcher.py:5: RuntimeWarning: invalid value encountered in true_divide\n",
      "  \"\"\"\n"
     ]
    }
   ],
   "source": [
    "# 불균형 바\n",
    "t = prices.index.searchsorted(prices.index)\n",
    "a = prices.copy()\n",
    "vol = prices.loc[t[1:]]['price'].values - prices.loc[t[:-1]]['price'].values\n",
    "vol = np.abs(vol)/vol\n",
    "vol = np.nan_to_num(np.insert(vol, 0, 0), nan = 0.0) #* prices.loc[t]['volume']\n",
    "a['vol'] = vol\n",
    "a.head()\n",
    "print(t[len(t)-1])"
   ]
  },
  {
   "cell_type": "code",
   "execution_count": 7,
   "metadata": {},
   "outputs": [],
   "source": [
    "exp = a['price'].ewm(span = 100)"
   ]
  },
  {
   "cell_type": "code",
   "execution_count": 8,
   "metadata": {},
   "outputs": [
    {
     "data": {
      "text/plain": [
       "array([ 50.79      ,  50.7496    ,  50.74973601, ..., 109.99783868,\n",
       "       110.00052108, 110.00348106])"
      ]
     },
     "execution_count": 8,
     "metadata": {},
     "output_type": "execute_result"
    }
   ],
   "source": [
    "exp.mean().values"
   ]
  },
  {
   "cell_type": "code",
   "execution_count": 9,
   "metadata": {},
   "outputs": [
    {
     "name": "stdout",
     "output_type": "stream",
     "text": [
      "[]\n"
     ]
    }
   ],
   "source": [
    "res = np.array([])\n",
    "print(res)"
   ]
  },
  {
   "cell_type": "code",
   "execution_count": null,
   "metadata": {},
   "outputs": [],
   "source": [
    "for i in t :\n",
    "    res = np.insert(res, i, vol[:i+1].sum())\n",
    "print(res)"
   ]
  },
  {
   "cell_type": "code",
   "execution_count": null,
   "metadata": {},
   "outputs": [],
   "source": [
    "a = prices.shape()"
   ]
  },
  {
   "cell_type": "code",
   "execution_count": 10,
   "metadata": {},
   "outputs": [
    {
     "data": {
      "text/plain": [
       "742086.0"
      ]
     },
     "execution_count": 10,
     "metadata": {},
     "output_type": "execute_result"
    }
   ],
   "source": [
    "a['vol'][a['vol'] == 1].sum()"
   ]
  },
  {
   "cell_type": "code",
   "execution_count": null,
   "metadata": {},
   "outputs": [],
   "source": []
  }
 ],
 "metadata": {
  "kernelspec": {
   "display_name": "Python 3",
   "language": "python",
   "name": "python3"
  },
  "language_info": {
   "codemirror_mode": {
    "name": "ipython",
    "version": 3
   },
   "file_extension": ".py",
   "mimetype": "text/x-python",
   "name": "python",
   "nbconvert_exporter": "python",
   "pygments_lexer": "ipython3",
   "version": "3.7.8"
  }
 },
 "nbformat": 4,
 "nbformat_minor": 4
}
